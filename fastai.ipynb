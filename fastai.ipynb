{
 "cells": [
  {
   "cell_type": "code",
   "execution_count": 145,
   "metadata": {
    "tags": []
   },
   "outputs": [],
   "source": [
    "import torch\n",
    "\n",
    "from fastai.vision.all import *\n",
    "import torch.nn.functional as F\n",
    "\n",
    "import pandas as pd\n",
    "import numpy as np\n",
    "from sklearn.metrics import precision_recall_curve, accuracy_score, balanced_accuracy_score, average_precision_score\n",
    "from sklearn.utils.class_weight import compute_class_weight\n",
    "from sklearn.model_selection import train_test_split\n",
    "import matplotlib.pyplot as plt"
   ]
  },
  {
   "cell_type": "code",
   "execution_count": 146,
   "metadata": {
    "tags": []
   },
   "outputs": [
    {
     "name": "stdout",
     "output_type": "stream",
     "text": [
      "True\n"
     ]
    }
   ],
   "source": [
    "print(torch.cuda.is_available())"
   ]
  },
  {
   "cell_type": "code",
   "execution_count": 147,
   "metadata": {
    "tags": []
   },
   "outputs": [
    {
     "name": "stdout",
     "output_type": "stream",
     "text": [
      "Installed kernelspec aml in /home/ec2-user/.local/share/jupyter/kernels/aml\n"
     ]
    }
   ],
   "source": [
    "%%sh\n",
    "\n",
    "envName=aml\n",
    "envPath=~/SageMaker/kernels/$envName\n",
    "ymlPath=environment.yml  # Update this with the actual path to your environment.yml\n",
    "\n",
    "# Check if the environment already exists\n",
    "if [ ! -d \"$envPath\" ]; then\n",
    "    # Create the environment from the environment.yml file\n",
    "    conda env create --prefix $envPath --file $ymlPath\n",
    "    # Alternatively, to create an empty environment, uncomment the next line\n",
    "    # conda create --prefix $envPath\n",
    "\n",
    "    # Create a symlink if your Conda doesn't automatically recognize environments in custom locations\n",
    "    ln -s $envPath ~/ec2-user/anaconda3/envs/$envName\n",
    "fi\n",
    "\n",
    "# Export the Conda environment to a Jupyter Notebook kernel\n",
    "python -m ipykernel install --user --name $envName --display-name \"$envName\""
   ]
  },
  {
   "cell_type": "markdown",
   "metadata": {},
   "source": [
    "### Helper Functions\n"
   ]
  },
  {
   "cell_type": "code",
   "execution_count": 148,
   "metadata": {
    "tags": []
   },
   "outputs": [],
   "source": [
    "# Plotting Precision-Recall curve for a specific class\n",
    "def plot_precision_recall_curve(class_index, preds, targets):\n",
    "    # Convert targets to one-hot format\n",
    "    one_hot_targets = np.eye(preds.shape[1])[targets.numpy().astype(int)]\n",
    "\n",
    "    # Extract the relevant column for the class\n",
    "    class_targets = one_hot_targets[:, class_index]\n",
    "    class_preds = preds[:, class_index]\n",
    "\n",
    "    precision, recall, _ = precision_recall_curve(class_targets, class_preds)\n",
    "    plt.figure(figsize=(8, 6))\n",
    "    plt.plot(recall, precision, marker='.')\n",
    "    plt.title(f'Precision-Recall Curve for Class {class_index}')\n",
    "    plt.xlabel('Recall')\n",
    "    plt.ylabel('Precision')\n",
    "    plt.show()\n",
    "\n",
    "\n",
    "def per_class_accuracy(preds, targets, class_index):\n",
    "    class_preds = preds.argmax(dim=1)\n",
    "    class_correct = (class_preds == class_index) & (targets == class_index)\n",
    "    class_total = (targets == class_index).sum()\n",
    "    if class_total == 0:\n",
    "        return 0  # To handle the case where there are no samples for the class\n",
    "    acc = class_correct.sum().float() / class_total\n",
    "    return acc\n",
    "\n",
    "def plot_class_distribution(df, label_col, save_path=None):\n",
    "    \"\"\"\n",
    "    Plots a histogram for the distribution of class labels in the dataset.\n",
    "\n",
    "    Parameters:\n",
    "    df (DataFrame): A pandas DataFrame containing the dataset.\n",
    "    label_col (str): The name of the column in the DataFrame that contains the class labels.\n",
    "    save_path (str): Optional. The file path where the plot will be saved. If None, the plot is not saved.\n",
    "    \"\"\"\n",
    "    plt.figure(figsize=(15, 8))\n",
    "    df[label_col].value_counts().plot(kind='bar')\n",
    "    plt.title('Class Distribution in Training Data')\n",
    "    plt.xlabel('Class Label')\n",
    "    plt.ylabel('Frequency')\n",
    "    plt.xticks(rotation=90)  # Rotate labels for better readability if necessary\n",
    "\n",
    "    if save_path:\n",
    "        plt.savefig(save_path, format='png', bbox_inches='tight')\n",
    "        plt.close()  # Close the figure after saving to free memory\n",
    "    else:\n",
    "        plt.show()\n",
    "\n",
    "        \n",
    "def evaluate_model(learner, dls, test_df):\n",
    "    # Plot top losses\n",
    "    interp = ClassificationInterpretation.from_learner(learner)\n",
    "    interp.plot_top_losses(9, figsize=(15, 10))\n",
    "    plt.show()  # Ensure the plot displays\n",
    "\n",
    "    # Show results for a few items\n",
    "    learner.show_results()\n",
    "\n",
    "    # Get predictions for the test set\n",
    "    test_dl = dls.test_dl(test_df, with_labels=True)\n",
    "    predictions, targets = learner.get_preds(dl=test_dl)\n",
    "    \n",
    "    # Calculate and print accuracy\n",
    "    acc = accuracy(predictions, targets)\n",
    "    print(f\"Accuracy: {acc.item() * 100:.2f}%\")\n",
    "\n",
    "    # Plot histogram of predicted classes\n",
    "    class_preds = predictions.argmax(dim=1).numpy()\n",
    "    plt.hist(class_preds, bins=len(dls.vocab))\n",
    "    plt.title(\"Histogram of Predicted Classes\")\n",
    "    plt.xlabel(\"Class\")\n",
    "    plt.ylabel(\"Number of Predictions\")\n",
    "    plt.show()\n",
    "\n",
    "    # Create a submission DataFrame\n",
    "    predicted_labels = class_preds\n",
    "    submission_df = test_df.copy()\n",
    "    submission_df[\"label\"] = predicted_labels\n",
    "\n",
    "    # Save the submission file\n",
    "    submission_file_path = \"/mnt/data/submission.csv\"  # Adjust path as needed\n",
    "    submission_df.to_csv(submission_file_path, index=False)\n",
    "    print(f\"Submission file saved to: {submission_file_path}\")\n",
    "    \n",
    "    return submission_df  # Return the submission DataFrame"
   ]
  },
  {
   "cell_type": "markdown",
   "metadata": {},
   "source": [
    "### Attributes\n"
   ]
  },
  {
   "cell_type": "code",
   "execution_count": 149,
   "metadata": {
    "tags": []
   },
   "outputs": [
    {
     "data": {
      "text/plain": [
       "(200, 312)"
      ]
     },
     "execution_count": 149,
     "metadata": {},
     "output_type": "execute_result"
    }
   ],
   "source": [
    "class_names = np.load(\"class_names.npy\", allow_pickle=True)\n",
    "# print(class_names.item())\n",
    "\n",
    "attributes = np.load(\"attributes.npy\", allow_pickle=True)\n",
    "attributes.shape"
   ]
  },
  {
   "cell_type": "code",
   "execution_count": 156,
   "metadata": {
    "tags": []
   },
   "outputs": [],
   "source": [
    "# Assuming train_df is your DataFrame with the training data\n",
    "image_files = train_df['image_path'].values  # This will give you an array of image paths\n",
    "labels = train_df['label'].values  # This will give you an array of labels\n",
    "\n",
    "# Split the data into training and validation sets\n",
    "train_files, valid_files, train_labels, valid_labels = train_test_split(\n",
    "    image_files, labels, test_size=0.2, random_state=42, stratify=labels\n",
    ")"
   ]
  },
  {
   "cell_type": "code",
   "execution_count": 157,
   "metadata": {
    "tags": []
   },
   "outputs": [],
   "source": [
    "# Define a custom dataset\n",
    "class ImageAttributeDataset(torch.utils.data.Dataset):\n",
    "    def __init__(self, image_files, labels, attributes, is_train=True):\n",
    "        self.image_files = image_files\n",
    "        self.labels = labels\n",
    "        self.attributes = attributes\n",
    "        self.is_train = is_train\n",
    "\n",
    "    def __len__(self):\n",
    "        return len(self.image_files)\n",
    "\n",
    "    def __getitem__(self, i):\n",
    "        # Get image\n",
    "        image = PILImage.create(self.image_files[i])\n",
    "        # Get label\n",
    "        label = self.labels[i]\n",
    "        # Get attributes for the class of the label\n",
    "        attribute = torch.tensor(self.attributes[label], dtype=torch.float32)\n",
    "        \n",
    "        # Apply transformations\n",
    "        if self.is_train:\n",
    "            image = image.apply_tfms(ImageDataLoaders.train_tfms)\n",
    "        else:\n",
    "            image = image.apply_tfms(ImageDataLoaders.valid_tfms)\n",
    "        \n",
    "        return image, attribute, label"
   ]
  },
  {
   "cell_type": "code",
   "execution_count": 159,
   "metadata": {
    "tags": []
   },
   "outputs": [],
   "source": [
    "# Create datasets\n",
    "train_ds = ImageAttributeDataset(train_files, train_labels, attributes, is_train=True)\n",
    "valid_ds = ImageAttributeDataset(valid_files, valid_labels, attributes, is_train=False)\n",
    "\n"
   ]
  },
  {
   "cell_type": "markdown",
   "metadata": {},
   "source": [
    "### Load CSV Files"
   ]
  },
  {
   "cell_type": "code",
   "execution_count": 160,
   "metadata": {
    "tags": []
   },
   "outputs": [],
   "source": [
    "train_df = pd.read_csv(\"train_images.csv\")\n",
    "test_df = pd.read_csv(\"test_images_path.csv\")"
   ]
  },
  {
   "cell_type": "code",
   "execution_count": 161,
   "metadata": {
    "tags": []
   },
   "outputs": [
    {
     "data": {
      "image/png": "[encoded data removed]",
      "text/plain": [
       "<Figure size 1500x800 with 1 Axes>"
      ]
     },
     "metadata": {},
     "output_type": "display_data"
    }
   ],
   "source": [
    "plot_class_distribution(train_df, 'label')"
   ]
  },
  {
   "cell_type": "markdown",
   "metadata": {},
   "source": [
    "## ImageLoader & DataLoader"
   ]
  },
  {
   "cell_type": "code",
   "execution_count": 162,
   "metadata": {
    "tags": []
   },
   "outputs": [],
   "source": [
    "dls = ImageDataLoaders.from_df(\n",
    "    train_df,\n",
    "    valid_pct=0.2,\n",
    "    item_tfms=Resize(224),\n",
    "    bs=96,\n",
    "    label_col=\"label\",\n",
    "    fn_col=\"image_path\",\n",
    ")"
   ]
  },
  {
   "cell_type": "code",
   "execution_count": 163,
   "metadata": {
    "tags": []
   },
   "outputs": [],
   "source": [
    "# Create dataloaders\n",
    "dls_custom = DataLoaders.from_dsets(train_ds, valid_ds, bs=64)"
   ]
  },
  {
   "cell_type": "markdown",
   "metadata": {},
   "source": [
    "## Setup Train"
   ]
  },
  {
   "cell_type": "code",
   "execution_count": 164,
   "metadata": {
    "tags": []
   },
   "outputs": [],
   "source": [
    "# Calculate class weights\n",
    "class_weights = compute_class_weight(class_weight='balanced', classes=np.unique(train_df['label']), y=train_df['label'])\n",
    "weights = torch.FloatTensor(class_weights).cuda()"
   ]
  },
  {
   "cell_type": "code",
   "execution_count": 165,
   "metadata": {
    "tags": []
   },
   "outputs": [],
   "source": [
    "dls.train.item_tfms = [\n",
    "    RandomResizedCrop(224, min_scale=0.5),\n",
    "    Rotate(),\n",
    "    Flip(),\n",
    "    Dihedral(),\n",
    "    Brightness(),\n",
    "    Contrast(),\n",
    "    Saturation(),\n",
    "    Hue(),\n",
    "]"
   ]
  },
  {
   "cell_type": "markdown",
   "metadata": {},
   "source": [
    "### Metrics"
   ]
  },
  {
   "cell_type": "code",
   "execution_count": 172,
   "metadata": {
    "tags": []
   },
   "outputs": [],
   "source": [
    "f1_score = F1Score(average='macro')\n",
    "roc_auc = RocAuc()"
   ]
  },
  {
   "cell_type": "code",
   "execution_count": 174,
   "metadata": {
    "tags": []
   },
   "outputs": [],
   "source": [
    "class BalancedAccuracyMetric(Metric):\n",
    "    def __init__(self):\n",
    "        self.preds = []\n",
    "        self.targets = []\n",
    "\n",
    "    def reset(self):\n",
    "        self.preds = []\n",
    "        self.targets = []\n",
    "\n",
    "    def accumulate(self, learn):\n",
    "        preds = learn.pred.argmax(dim=-1).detach().cpu().numpy()\n",
    "        targs = learn.y.detach().cpu().numpy()\n",
    "        self.preds.append(preds)\n",
    "        self.targets.append(targs)\n",
    "\n",
    "    @property\n",
    "    def value(self):\n",
    "        preds = np.concatenate(self.preds)\n",
    "        targs = np.concatenate(self.targets)\n",
    "        return balanced_accuracy_score(targs, preds)\n",
    "\n",
    "balanced_accuracy = BalancedAccuracyMetric()"
   ]
  },
  {
   "cell_type": "markdown",
   "metadata": {},
   "source": [
    "## Modelling\n"
   ]
  },
  {
   "cell_type": "markdown",
   "metadata": {},
   "source": [
    "#### Model 1"
   ]
  },
  {
   "cell_type": "code",
   "execution_count": 176,
   "metadata": {
    "tags": []
   },
   "outputs": [],
   "source": [
    "learn1 = vision_learner(dls, resnet34, metrics=[accuracy, f1_score, roc_auc], loss_func=CrossEntropyLossFlat(weight=weights))"
   ]
  },
  {
   "cell_type": "code",
   "execution_count": 177,
   "metadata": {
    "tags": []
   },
   "outputs": [
    {
     "data": {
      "text/html": [
       "\n",
       "<style>\n",
       "    /* Turns off some styling */\n",
       "    progress {\n",
       "        /* gets rid of default border in Firefox and Opera. */\n",
       "        border: none;\n",
       "        /* Needs to be in here for Safari polyfill so background images work as expected. */\n",
       "        background-size: auto;\n",
       "    }\n",
       "    progress:not([value]), progress:not([value])::-webkit-progress-bar {\n",
       "        background: repeating-linear-gradient(45deg, #7e7e7e, #7e7e7e 10px, #5c5c5c 10px, #5c5c5c 20px);\n",
       "    }\n",
       "    .progress-bar-interrupted, .progress-bar-interrupted::-webkit-progress-bar {\n",
       "        background: #F44336;\n",
       "    }\n",
       "</style>\n"
      ],
      "text/plain": [
       "<IPython.core.display.HTML object>"
      ]
     },
     "metadata": {},
     "output_type": "display_data"
    },
    {
     "data": {
      "text/html": [],
      "text/plain": [
       "<IPython.core.display.HTML object>"
      ]
     },
     "metadata": {},
     "output_type": "display_data"
    },
    {
     "name": "stderr",
     "output_type": "stream",
     "text": [
      "Exception ignored in: <function _MultiProcessingDataLoaderIter.__del__ at 0x7fae3a646cb0>\n",
      "Traceback (most recent call last):\n",
      "  File \"/home/ec2-user/anaconda3/envs/aml/lib/python3.10/site-packages/torch/utils/data/dataloader.py\", line 1478, in __del__\n",
      "    self._shutdown_workers()\n",
      "  File \"/home/ec2-user/anaconda3/envs/aml/lib/python3.10/site-packages/torch/utils/data/dataloader.py\", line 1442, in _shutdown_workers\n",
      "    w.join(timeout=_utils.MP_STATUS_CHECK_INTERVAL)\n",
      "  File \"/home/ec2-user/anaconda3/envs/aml/lib/python3.10/multiprocessing/process.py\", line 149, in join\n",
      "    res = self._popen.wait(timeout)\n",
      "  File \"/home/ec2-user/anaconda3/envs/aml/lib/python3.10/multiprocessing/popen_fork.py\", line 40, in wait\n",
      "    if not wait([self.sentinel], timeout):\n",
      "  File \"/home/ec2-user/anaconda3/envs/aml/lib/python3.10/multiprocessing/connection.py\", line 931, in wait\n",
      "    ready = selector.select(timeout)\n",
      "  File \"/home/ec2-user/anaconda3/envs/aml/lib/python3.10/selectors.py\", line 416, in select\n",
      "    fd_event_list = self._selector.poll(timeout)\n",
      "KeyboardInterrupt: \n"
     ]
    },
    {
     "data": {
      "text/plain": [
       "SuggestedLRs(valley=0.0020892962347716093)"
      ]
     },
     "execution_count": 177,
     "metadata": {},
     "output_type": "execute_result"
    },
    {
     "data": {
      "image/png": "[encoded data removed]",
      "text/plain": [
       "<Figure size 640x480 with 1 Axes>"
      ]
     },
     "metadata": {},
     "output_type": "display_data"
    }
   ],
   "source": [
    "learn1.lr_find()"
   ]
  },
  {
   "cell_type": "code",
   "execution_count": null,
   "metadata": {
    "tags": []
   },
   "outputs": [
    {
     "data": {
      "text/html": [
       "\n",
       "<style>\n",
       "    /* Turns off some styling */\n",
       "    progress {\n",
       "        /* gets rid of default border in Firefox and Opera. */\n",
       "        border: none;\n",
       "        /* Needs to be in here for Safari polyfill so background images work as expected. */\n",
       "        background-size: auto;\n",
       "    }\n",
       "    progress:not([value]), progress:not([value])::-webkit-progress-bar {\n",
       "        background: repeating-linear-gradient(45deg, #7e7e7e, #7e7e7e 10px, #5c5c5c 10px, #5c5c5c 20px);\n",
       "    }\n",
       "    .progress-bar-interrupted, .progress-bar-interrupted::-webkit-progress-bar {\n",
       "        background: #F44336;\n",
       "    }\n",
       "</style>\n"
      ],
      "text/plain": [
       "<IPython.core.display.HTML object>"
      ]
     },
     "metadata": {},
     "output_type": "display_data"
    },
    {
     "data": {
      "text/html": [
       "\n",
       "    <div>\n",
       "      <progress value='0' class='' max='1' style='width:300px; height:20px; vertical-align: middle;'></progress>\n",
       "      0.00% [0/1 00:00&lt;?]\n",
       "    </div>\n",
       "    \n",
       "<table border=\"1\" class=\"dataframe\">\n",
       "  <thead>\n",
       "    <tr style=\"text-align: left;\">\n",
       "      <th>epoch</th>\n",
       "      <th>train_loss</th>\n",
       "      <th>valid_loss</th>\n",
       "      <th>accuracy</th>\n",
       "      <th>f1_score</th>\n",
       "      <th>roc_auc_score</th>\n",
       "      <th>time</th>\n",
       "    </tr>\n",
       "  </thead>\n",
       "  <tbody>\n",
       "  </tbody>\n",
       "</table><p>\n",
       "\n",
       "    <div>\n",
       "      <progress value='0' class='' max='32' style='width:300px; height:20px; vertical-align: middle;'></progress>\n",
       "      0.00% [0/32 00:00&lt;?]\n",
       "    </div>\n",
       "    "
      ],
      "text/plain": [
       "<IPython.core.display.HTML object>"
      ]
     },
     "metadata": {},
     "output_type": "display_data"
    }
   ],
   "source": [
    "learn1.fine_tune(15)"
   ]
  },
  {
   "cell_type": "markdown",
   "metadata": {},
   "source": [
    "#### Model 2"
   ]
  },
  {
   "cell_type": "code",
   "execution_count": 116,
   "metadata": {
    "tags": []
   },
   "outputs": [],
   "source": [
    "class FocalLoss(nn.Module):\n",
    "    def __init__(self, alpha=1.0, gamma=2.0, reduction='mean'):\n",
    "        super().__init__()\n",
    "        self.alpha = alpha\n",
    "        self.gamma = gamma\n",
    "        self.reduction = reduction\n",
    "\n",
    "    def forward(self, inputs, targets):\n",
    "        CE_loss = F.cross_entropy(inputs, targets, reduction='none')\n",
    "        pt = torch.exp(-CE_loss)\n",
    "        F_loss = self.alpha * (1-pt)**self.gamma * CE_loss\n",
    "\n",
    "        if self.reduction == 'mean':\n",
    "            return F_loss.mean()\n",
    "        elif self.reduction == 'sum':\n",
    "            return F_loss.sum()\n",
    "        else:\n",
    "            return F_loss\n",
    "\n",
    "focal_loss = FocalLoss(alpha=1.0, gamma=2.0)"
   ]
  },
  {
   "cell_type": "code",
   "execution_count": 118,
   "metadata": {
    "tags": []
   },
   "outputs": [],
   "source": [
    "learn2 = vision_learner(dls, resnet34, metrics=[accuracy, f1_score, precision_recall_auc, balanced_accuracy], loss_func=focal_loss)"
   ]
  },
  {
   "cell_type": "code",
   "execution_count": 119,
   "metadata": {
    "tags": []
   },
   "outputs": [
    {
     "data": {
      "text/html": [
       "\n",
       "<style>\n",
       "    /* Turns off some styling */\n",
       "    progress {\n",
       "        /* gets rid of default border in Firefox and Opera. */\n",
       "        border: none;\n",
       "        /* Needs to be in here for Safari polyfill so background images work as expected. */\n",
       "        background-size: auto;\n",
       "    }\n",
       "    progress:not([value]), progress:not([value])::-webkit-progress-bar {\n",
       "        background: repeating-linear-gradient(45deg, #7e7e7e, #7e7e7e 10px, #5c5c5c 10px, #5c5c5c 20px);\n",
       "    }\n",
       "    .progress-bar-interrupted, .progress-bar-interrupted::-webkit-progress-bar {\n",
       "        background: #F44336;\n",
       "    }\n",
       "</style>\n"
      ],
      "text/plain": [
       "<IPython.core.display.HTML object>"
      ]
     },
     "metadata": {},
     "output_type": "display_data"
    },
    {
     "data": {
      "text/html": [],
      "text/plain": [
       "<IPython.core.display.HTML object>"
      ]
     },
     "metadata": {},
     "output_type": "display_data"
    },
    {
     "data": {
      "text/plain": [
       "SuggestedLRs(valley=0.0014454397605732083)"
      ]
     },
     "execution_count": 119,
     "metadata": {},
     "output_type": "execute_result"
    },
    {
     "data": {
      "image/png": "[encoded data removed]",
      "text/plain": [
       "<Figure size 640x480 with 1 Axes>"
      ]
     },
     "metadata": {},
     "output_type": "display_data"
    }
   ],
   "source": [
    "learn2.lr_find()"
   ]
  },
  {
   "cell_type": "code",
   "execution_count": 120,
   "metadata": {
    "tags": []
   },
   "outputs": [
    {
     "data": {
      "text/html": [
       "\n",
       "<style>\n",
       "    /* Turns off some styling */\n",
       "    progress {\n",
       "        /* gets rid of default border in Firefox and Opera. */\n",
       "        border: none;\n",
       "        /* Needs to be in here for Safari polyfill so background images work as expected. */\n",
       "        background-size: auto;\n",
       "    }\n",
       "    progress:not([value]), progress:not([value])::-webkit-progress-bar {\n",
       "        background: repeating-linear-gradient(45deg, #7e7e7e, #7e7e7e 10px, #5c5c5c 10px, #5c5c5c 20px);\n",
       "    }\n",
       "    .progress-bar-interrupted, .progress-bar-interrupted::-webkit-progress-bar {\n",
       "        background: #F44336;\n",
       "    }\n",
       "</style>\n"
      ],
      "text/plain": [
       "<IPython.core.display.HTML object>"
      ]
     },
     "metadata": {},
     "output_type": "display_data"
    },
    {
     "data": {
      "text/html": [
       "<table border=\"1\" class=\"dataframe\">\n",
       "  <thead>\n",
       "    <tr style=\"text-align: left;\">\n",
       "      <th>epoch</th>\n",
       "      <th>train_loss</th>\n",
       "      <th>valid_loss</th>\n",
       "      <th>accuracy</th>\n",
       "      <th>f1_score</th>\n",
       "      <th>time</th>\n",
       "    </tr>\n",
       "  </thead>\n",
       "  <tbody>\n",
       "    <tr>\n",
       "      <td>0</td>\n",
       "      <td>5.936264</td>\n",
       "      <td>3.265202</td>\n",
       "      <td>0.257325</td>\n",
       "      <td>0.171810</td>\n",
       "      <td>00:10</td>\n",
       "    </tr>\n",
       "  </tbody>\n",
       "</table>"
      ],
      "text/plain": [
       "<IPython.core.display.HTML object>"
      ]
     },
     "metadata": {},
     "output_type": "display_data"
    },
    {
     "data": {
      "text/html": [
       "\n",
       "<style>\n",
       "    /* Turns off some styling */\n",
       "    progress {\n",
       "        /* gets rid of default border in Firefox and Opera. */\n",
       "        border: none;\n",
       "        /* Needs to be in here for Safari polyfill so background images work as expected. */\n",
       "        background-size: auto;\n",
       "    }\n",
       "    progress:not([value]), progress:not([value])::-webkit-progress-bar {\n",
       "        background: repeating-linear-gradient(45deg, #7e7e7e, #7e7e7e 10px, #5c5c5c 10px, #5c5c5c 20px);\n",
       "    }\n",
       "    .progress-bar-interrupted, .progress-bar-interrupted::-webkit-progress-bar {\n",
       "        background: #F44336;\n",
       "    }\n",
       "</style>\n"
      ],
      "text/plain": [
       "<IPython.core.display.HTML object>"
      ]
     },
     "metadata": {},
     "output_type": "display_data"
    },
    {
     "data": {
      "text/html": [
       "<table border=\"1\" class=\"dataframe\">\n",
       "  <thead>\n",
       "    <tr style=\"text-align: left;\">\n",
       "      <th>epoch</th>\n",
       "      <th>train_loss</th>\n",
       "      <th>valid_loss</th>\n",
       "      <th>accuracy</th>\n",
       "      <th>f1_score</th>\n",
       "      <th>time</th>\n",
       "    </tr>\n",
       "  </thead>\n",
       "  <tbody>\n",
       "    <tr>\n",
       "      <td>0</td>\n",
       "      <td>3.142335</td>\n",
       "      <td>2.740727</td>\n",
       "      <td>0.321019</td>\n",
       "      <td>0.221852</td>\n",
       "      <td>00:10</td>\n",
       "    </tr>\n",
       "    <tr>\n",
       "      <td>1</td>\n",
       "      <td>2.476720</td>\n",
       "      <td>2.189201</td>\n",
       "      <td>0.416561</td>\n",
       "      <td>0.308982</td>\n",
       "      <td>00:10</td>\n",
       "    </tr>\n",
       "    <tr>\n",
       "      <td>2</td>\n",
       "      <td>1.817850</td>\n",
       "      <td>1.841357</td>\n",
       "      <td>0.463694</td>\n",
       "      <td>0.367785</td>\n",
       "      <td>00:10</td>\n",
       "    </tr>\n",
       "    <tr>\n",
       "      <td>3</td>\n",
       "      <td>1.300221</td>\n",
       "      <td>1.681677</td>\n",
       "      <td>0.519745</td>\n",
       "      <td>0.440337</td>\n",
       "      <td>00:10</td>\n",
       "    </tr>\n",
       "    <tr>\n",
       "      <td>4</td>\n",
       "      <td>0.873335</td>\n",
       "      <td>1.529809</td>\n",
       "      <td>0.522293</td>\n",
       "      <td>0.443503</td>\n",
       "      <td>00:10</td>\n",
       "    </tr>\n",
       "    <tr>\n",
       "      <td>5</td>\n",
       "      <td>0.567414</td>\n",
       "      <td>1.532282</td>\n",
       "      <td>0.536306</td>\n",
       "      <td>0.443001</td>\n",
       "      <td>00:10</td>\n",
       "    </tr>\n",
       "    <tr>\n",
       "      <td>6</td>\n",
       "      <td>0.367928</td>\n",
       "      <td>1.473440</td>\n",
       "      <td>0.551592</td>\n",
       "      <td>0.465275</td>\n",
       "      <td>00:10</td>\n",
       "    </tr>\n",
       "    <tr>\n",
       "      <td>7</td>\n",
       "      <td>0.262075</td>\n",
       "      <td>1.522276</td>\n",
       "      <td>0.551592</td>\n",
       "      <td>0.463260</td>\n",
       "      <td>00:10</td>\n",
       "    </tr>\n",
       "    <tr>\n",
       "      <td>8</td>\n",
       "      <td>0.181333</td>\n",
       "      <td>1.465602</td>\n",
       "      <td>0.560510</td>\n",
       "      <td>0.493604</td>\n",
       "      <td>00:11</td>\n",
       "    </tr>\n",
       "    <tr>\n",
       "      <td>9</td>\n",
       "      <td>0.129284</td>\n",
       "      <td>1.418985</td>\n",
       "      <td>0.564331</td>\n",
       "      <td>0.496475</td>\n",
       "      <td>00:10</td>\n",
       "    </tr>\n",
       "    <tr>\n",
       "      <td>10</td>\n",
       "      <td>0.087284</td>\n",
       "      <td>1.353735</td>\n",
       "      <td>0.578344</td>\n",
       "      <td>0.512524</td>\n",
       "      <td>00:10</td>\n",
       "    </tr>\n",
       "    <tr>\n",
       "      <td>11</td>\n",
       "      <td>0.068283</td>\n",
       "      <td>1.345764</td>\n",
       "      <td>0.575796</td>\n",
       "      <td>0.502933</td>\n",
       "      <td>00:10</td>\n",
       "    </tr>\n",
       "    <tr>\n",
       "      <td>12</td>\n",
       "      <td>0.051469</td>\n",
       "      <td>1.350429</td>\n",
       "      <td>0.583439</td>\n",
       "      <td>0.506242</td>\n",
       "      <td>00:10</td>\n",
       "    </tr>\n",
       "    <tr>\n",
       "      <td>13</td>\n",
       "      <td>0.044142</td>\n",
       "      <td>1.337955</td>\n",
       "      <td>0.588535</td>\n",
       "      <td>0.524359</td>\n",
       "      <td>00:10</td>\n",
       "    </tr>\n",
       "    <tr>\n",
       "      <td>14</td>\n",
       "      <td>0.042460</td>\n",
       "      <td>1.334100</td>\n",
       "      <td>0.591083</td>\n",
       "      <td>0.526770</td>\n",
       "      <td>00:10</td>\n",
       "    </tr>\n",
       "  </tbody>\n",
       "</table>"
      ],
      "text/plain": [
       "<IPython.core.display.HTML object>"
      ]
     },
     "metadata": {},
     "output_type": "display_data"
    }
   ],
   "source": [
    "learn2.fine_tune(15)"
   ]
  },
  {
   "cell_type": "markdown",
   "metadata": {},
   "source": [
    "### Model 3"
   ]
  },
  {
   "cell_type": "code",
   "execution_count": null,
   "metadata": {},
   "outputs": [],
   "source": [
    "class CombinedModel(nn.Module):\n",
    "    def __init__(self, image_model, num_attributes):\n",
    "        super().__init__()\n",
    "        # Assume image_model is a pre-trained model where the last layer is replaced with an identity mapping\n",
    "        self.image_model = image_model\n",
    "        self.attribute_layers = nn.Sequential(\n",
    "            nn.Linear(num_attributes, 512),\n",
    "            nn.ReLU(),\n",
    "            nn.Linear(512, 256),\n",
    "            nn.ReLU()\n",
    "        )\n",
    "        self.final_layers = nn.Sequential(\n",
    "            nn.Linear(256 + num_output_features_image_model, 200)\n",
    "        )\n",
    "\n",
    "    def forward(self, x_image, x_attribute):\n",
    "        # Pass image through image model\n",
    "        image_features = self.image_model(x_image)\n",
    "        \n",
    "        # Pass attributes through attribute layers\n",
    "        attribute_features = self.attribute_layers(x_attribute)\n",
    "        \n",
    "        # Combine the two feature sets\n",
    "        combined_features = torch.cat((image_features, attribute_features), dim=1)\n",
    "        \n",
    "        # Final classification layer\n",
    "        out = self.final_layers(combined_features)\n",
    "        return out"
   ]
  },
  {
   "cell_type": "code",
   "execution_count": null,
   "metadata": {},
   "outputs": [],
   "source": [
    "# Initialize the combined model\n",
    "image_model = vison_learner(dls_custom, resnet34, pretrained=True, cut=-1)  # Use the model but cut off the head\n",
    "combined_model = CombinedModel(image_model.model, num_attributes=312)\n",
    "\n",
    "# Create a learner with the combined model\n",
    "learn3 = Learner(dls_custom, combined_model, loss_func=CrossEntropyLossFlat())"
   ]
  },
  {
   "cell_type": "code",
   "execution_count": null,
   "metadata": {},
   "outputs": [],
   "source": [
    "learn3.lr_find()"
   ]
  },
  {
   "cell_type": "code",
   "execution_count": null,
   "metadata": {},
   "outputs": [],
   "source": [
    "learn3.fine_tune(15)"
   ]
  },
  {
   "cell_type": "markdown",
   "metadata": {},
   "source": [
    "### Result"
   ]
  },
  {
   "cell_type": "code",
   "execution_count": null,
   "metadata": {},
   "outputs": [],
   "source": [
    "submission_df = evaluate_model(learn1 dls, test_df)"
   ]
  },
  {
   "cell_type": "code",
   "execution_count": null,
   "metadata": {},
   "outputs": [],
   "source": []
  },
  {
   "cell_type": "code",
   "execution_count": 115,
   "metadata": {
    "tags": []
   },
   "outputs": [],
   "source": [
    "torch.cuda.empty_cache()"
   ]
  },
  {
   "cell_type": "code",
   "execution_count": null,
   "metadata": {},
   "outputs": [],
   "source": []
  }
 ],
 "metadata": {
  "kernelspec": {
   "display_name": "conda_aml",
   "language": "python",
   "name": "conda_aml"
  },
  "language_info": {
   "codemirror_mode": {
    "name": "ipython",
    "version": 3
   },
   "file_extension": ".py",
   "mimetype": "text/x-python",
   "name": "python",
   "nbconvert_exporter": "python",
   "pygments_lexer": "ipython3",
   "version": "3.10.13"
  }
 },
 "nbformat": 4,
 "nbformat_minor": 4
}
