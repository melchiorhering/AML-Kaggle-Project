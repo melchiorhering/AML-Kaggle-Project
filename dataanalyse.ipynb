{
 "cells": [
  {
   "cell_type": "code",
   "execution_count": 1,
   "metadata": {},
   "outputs": [],
   "source": [
    "import numpy as np\n",
    "from PIL import Image"
   ]
  },
  {
   "cell_type": "code",
   "execution_count": 2,
   "metadata": {},
   "outputs": [],
   "source": [
    "# TEST DATA\n",
    "class_names = np.load(\"./class_names.npy\", allow_pickle=True)\n",
    "# display(class_names.item())\n",
    "attributes = np.load(\"./attributes.npy\", allow_pickle=True)\n",
    "# display(attributes)"
   ]
  },
  {
   "cell_type": "code",
   "execution_count": 3,
   "metadata": {},
   "outputs": [
    {
     "name": "stdout",
     "output_type": "stream",
     "text": [
      "500 356\n",
      "500 375\n",
      "415 500\n",
      "500 357\n",
      "320 223\n",
      "500 357\n",
      "240 187\n",
      "500 332\n",
      "350 350\n",
      "500 336\n"
     ]
    }
   ],
   "source": [
    "# CHECK IMAGE SIZES\n",
    "for num in range(1, 11):\n",
    "    # Load the image\n",
    "    image = Image.open(f\"train_images/{num}.jpg\")\n",
    "    # Get image size\n",
    "    width, height = image.size\n",
    "    print(width, height)"
   ]
  },
  {
   "cell_type": "code",
   "execution_count": null,
   "metadata": {},
   "outputs": [],
   "source": []
  }
 ],
 "metadata": {
  "kernelspec": {
   "display_name": "aml",
   "language": "python",
   "name": "python3"
  },
  "language_info": {
   "codemirror_mode": {
    "name": "ipython",
    "version": 3
   },
   "file_extension": ".py",
   "mimetype": "text/x-python",
   "name": "python",
   "nbconvert_exporter": "python",
   "pygments_lexer": "ipython3",
   "version": "3.10.13"
  }
 },
 "nbformat": 4,
 "nbformat_minor": 2
}
