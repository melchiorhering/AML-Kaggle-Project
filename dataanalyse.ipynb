{
 "cells": [
  {
   "cell_type": "code",
   "execution_count": 18,
   "metadata": {},
   "outputs": [],
   "source": [
    "import numpy as np\n",
    "from PIL import Image\n",
    "import polars as pl"
   ]
  },
  {
   "cell_type": "code",
   "execution_count": 19,
   "metadata": {},
   "outputs": [],
   "source": [
    "# TEST DATA\n",
    "class_names = np.load(\"./class_names.npy\", allow_pickle=True)\n",
    "# display(class_names.item())\n",
    "attributes = np.load(\"./attributes.npy\", allow_pickle=True)\n",
    "# display(attributes)"
   ]
  },
  {
   "cell_type": "code",
   "execution_count": 20,
   "metadata": {},
   "outputs": [
    {
     "data": {
      "text/plain": [
       "(3926, 2)"
      ]
     },
     "execution_count": 20,
     "metadata": {},
     "output_type": "execute_result"
    }
   ],
   "source": [
    "df_train = pl.read_csv(\"train_images.csv\")\n",
    "df_train.head()\n",
    "\n",
    "df_train.shape"
   ]
  },
  {
   "cell_type": "code",
   "execution_count": 21,
   "metadata": {},
   "outputs": [],
   "source": [
    "# CHECK IMAGE SIZES\n",
    "\n",
    "width_l = []\n",
    "height_l = []\n",
    "for num in range(1, df_train.shape[0] + 1):\n",
    "    # Load the image\n",
    "    image = Image.open(f\"train_images/{num}.jpg\")\n",
    "    # Get image size\n",
    "    width, height = image.size\n",
    "    width_l.append(width)\n",
    "    height_l.append(height)"
   ]
  },
  {
   "cell_type": "code",
   "execution_count": 33,
   "metadata": {},
   "outputs": [
    {
     "name": "stdout",
     "output_type": "stream",
     "text": [
      "MEAN HEIGHT: 385.37366276107997\n",
      "MEAN WIDTH: 467.7809475292919\n"
     ]
    }
   ],
   "source": [
    "df_train = df_train.with_columns(pl.Series(name=\"width\", values=width_l))\n",
    "df_train = df_train.with_columns(pl.Series(name=\"height\", values=height_l))\n",
    "df_train.head()\n",
    "\n",
    "mean_width = df_train[\"width\"].mean()\n",
    "mean_height = df_train[\"height\"].mean()\n",
    "\n",
    "print(f\"MEAN HEIGHT: {mean_height}\")\n",
    "print(f\"MEAN WIDTH: {mean_width}\")"
   ]
  }
 ],
 "metadata": {
  "kernelspec": {
   "display_name": "aml",
   "language": "python",
   "name": "python3"
  },
  "language_info": {
   "codemirror_mode": {
    "name": "ipython",
    "version": 3
   },
   "file_extension": ".py",
   "mimetype": "text/x-python",
   "name": "python",
   "nbconvert_exporter": "python",
   "pygments_lexer": "ipython3",
   "version": "3.10.13"
  }
 },
 "nbformat": 4,
 "nbformat_minor": 2
}
